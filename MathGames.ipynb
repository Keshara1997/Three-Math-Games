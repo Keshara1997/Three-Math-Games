{
  "nbformat": 4,
  "nbformat_minor": 0,
  "metadata": {
    "colab": {
      "provenance": [],
      "authorship_tag": "ABX9TyPEa/SSYWSljJkE9HjVXIAK",
      "include_colab_link": true
    },
    "kernelspec": {
      "name": "python3",
      "display_name": "Python 3"
    },
    "language_info": {
      "name": "python"
    }
  },
  "cells": [
    {
      "cell_type": "markdown",
      "metadata": {
        "id": "view-in-github",
        "colab_type": "text"
      },
      "source": [
        "<a href=\"https://colab.research.google.com/github/Keshara1997/Three-Math-Games/blob/main/MathGames.ipynb\" target=\"_parent\"><img src=\"https://colab.research.google.com/assets/colab-badge.svg\" alt=\"Open In Colab\"/></a>"
      ]
    },
    {
      "cell_type": "markdown",
      "source": [
        "Scatter plot game\n",
        "Randomly generate points on a graph and the player has to input the (x,y) coordinates\n",
        "For added difficulty, make the graph larger"
      ],
      "metadata": {
        "id": "8IbsyQphJ3x2"
      }
    },
    {
      "cell_type": "code",
      "execution_count": 5,
      "metadata": {
        "colab": {
          "base_uri": "https://localhost:8080/",
          "height": 918
        },
        "id": "x5GBoYQNJLN9",
        "outputId": "2e8e6369-7240-4a5e-e952-55d26394d786"
      },
      "outputs": [
        {
          "output_type": "display_data",
          "data": {
            "text/plain": [
              "<Figure size 640x480 with 1 Axes>"
            ],
            "image/png": "[encoded data removed]"
          },
          "metadata": {}
        },
        {
          "name": "stdout",
          "output_type": "stream",
          "text": [
            "Enter X-coordinate for point 1: +22\n",
            "Enter Y-coordinate for point 1: 22\n",
            "Incorrect. The correct answer was (16, 12).\n",
            "Enter X-coordinate for point 2: 22\n",
            "Enter Y-coordinate for point 2: 00\n",
            "Incorrect. The correct answer was (11, 10).\n",
            "Enter X-coordinate for point 3: \n"
          ]
        },
        {
          "output_type": "error",
          "ename": "ValueError",
          "evalue": "ignored",
          "traceback": [
            "\u001b[0;31m---------------------------------------------------------------------------\u001b[0m",
            "\u001b[0;31mValueError\u001b[0m                                Traceback (most recent call last)",
            "\u001b[0;32m<ipython-input-5-d6904553d5d9>\u001b[0m in \u001b[0;36m<cell line: 27>\u001b[0;34m()\u001b[0m\n\u001b[1;32m     25\u001b[0m             \u001b[0mprint\u001b[0m\u001b[0;34m(\u001b[0m\u001b[0;34mf'Incorrect. The correct answer was ({x_coordinates[i]}, {y_coordinates[i]}).'\u001b[0m\u001b[0;34m)\u001b[0m\u001b[0;34m\u001b[0m\u001b[0;34m\u001b[0m\u001b[0m\n\u001b[1;32m     26\u001b[0m \u001b[0;34m\u001b[0m\u001b[0m\n\u001b[0;32m---> 27\u001b[0;31m \u001b[0mscatter_plot_game\u001b[0m\u001b[0;34m(\u001b[0m\u001b[0;34m)\u001b[0m\u001b[0;34m\u001b[0m\u001b[0;34m\u001b[0m\u001b[0m\n\u001b[0m",
            "\u001b[0;32m<ipython-input-5-d6904553d5d9>\u001b[0m in \u001b[0;36mscatter_plot_game\u001b[0;34m()\u001b[0m\n\u001b[1;32m     18\u001b[0m     \u001b[0;31m# Get player input for (x, y) coordinates\u001b[0m\u001b[0;34m\u001b[0m\u001b[0;34m\u001b[0m\u001b[0m\n\u001b[1;32m     19\u001b[0m     \u001b[0;32mfor\u001b[0m \u001b[0mi\u001b[0m \u001b[0;32min\u001b[0m \u001b[0mrange\u001b[0m\u001b[0;34m(\u001b[0m\u001b[0mnum_points\u001b[0m\u001b[0;34m)\u001b[0m\u001b[0;34m:\u001b[0m\u001b[0;34m\u001b[0m\u001b[0;34m\u001b[0m\u001b[0m\n\u001b[0;32m---> 20\u001b[0;31m         \u001b[0mplayer_x\u001b[0m \u001b[0;34m=\u001b[0m \u001b[0mint\u001b[0m\u001b[0;34m(\u001b[0m\u001b[0minput\u001b[0m\u001b[0;34m(\u001b[0m\u001b[0;34mf'Enter X-coordinate for point {i+1}: '\u001b[0m\u001b[0;34m)\u001b[0m\u001b[0;34m)\u001b[0m\u001b[0;34m\u001b[0m\u001b[0;34m\u001b[0m\u001b[0m\n\u001b[0m\u001b[1;32m     21\u001b[0m         \u001b[0mplayer_y\u001b[0m \u001b[0;34m=\u001b[0m \u001b[0mint\u001b[0m\u001b[0;34m(\u001b[0m\u001b[0minput\u001b[0m\u001b[0;34m(\u001b[0m\u001b[0;34mf'Enter Y-coordinate for point {i+1}: '\u001b[0m\u001b[0;34m)\u001b[0m\u001b[0;34m)\u001b[0m\u001b[0;34m\u001b[0m\u001b[0;34m\u001b[0m\u001b[0m\n\u001b[1;32m     22\u001b[0m         \u001b[0;32mif\u001b[0m \u001b[0mplayer_x\u001b[0m \u001b[0;34m==\u001b[0m \u001b[0mx_coordinates\u001b[0m\u001b[0;34m[\u001b[0m\u001b[0mi\u001b[0m\u001b[0;34m]\u001b[0m \u001b[0;32mand\u001b[0m \u001b[0mplayer_y\u001b[0m \u001b[0;34m==\u001b[0m \u001b[0my_coordinates\u001b[0m\u001b[0;34m[\u001b[0m\u001b[0mi\u001b[0m\u001b[0;34m]\u001b[0m\u001b[0;34m:\u001b[0m\u001b[0;34m\u001b[0m\u001b[0;34m\u001b[0m\u001b[0m\n",
            "\u001b[0;31mValueError\u001b[0m: invalid literal for int() with base 10: ''"
          ]
        }
      ],
      "source": [
        "import matplotlib.pyplot as plt\n",
        "import random\n",
        "\n",
        "def scatter_plot_game():\n",
        "    # Generate random points\n",
        "    num_points = 10\n",
        "    x_coordinates = [random.randint(-20, 20) for _ in range(num_points)]\n",
        "    y_coordinates = [random.randint(-20, 20) for _ in range(num_points)]\n",
        "\n",
        "    # Plot the points\n",
        "    plt.scatter(x_coordinates, y_coordinates, color='blue')\n",
        "    plt.xlabel('X')\n",
        "    plt.ylabel('Y')\n",
        "    plt.title('Scatter Plot Game')\n",
        "    plt.grid(True)\n",
        "    plt.show()\n",
        "\n",
        "    # Get player input for (x, y) coordinates\n",
        "    for i in range(num_points):\n",
        "        player_x = int(input(f'Enter X-coordinate for point {i+1}: '))\n",
        "        player_y = int(input(f'Enter Y-coordinate for point {i+1}: '))\n",
        "        if player_x == x_coordinates[i] and player_y == y_coordinates[i]:\n",
        "            print('Correct!')\n",
        "        else:\n",
        "            print(f'Incorrect. The correct answer was ({x_coordinates[i]}, {y_coordinates[i]}).')\n",
        "\n",
        "scatter_plot_game()"
      ]
    },
    {
      "cell_type": "markdown",
      "source": [
        "Algebra practice game\n",
        "Generate one-step and two-step problems with random integer values and the player has to input the answer\n",
        "Use positive and negative values. For added difficulty, make the numbers larger"
      ],
      "metadata": {
        "id": "wmjRbgzBKDk4"
      }
    },
    {
      "cell_type": "code",
      "source": [
        "22import random\n",
        "\n",
        "def algebra_practice_game():\n",
        "    # Generate random integers for the algebra problems\n",
        "    a = random.randint(-20, 20)\n",
        "    b = random.randint(-20, 20)\n",
        "    c = random.randint(-20, 20)\n",
        "    x = random.randint(-10, 10)\n",
        "\n",
        "    # Create algebraic expression\n",
        "    expression = f\"{a}x^2 + {b}x + {c}\"\n",
        "\n",
        "    # Calculate the expected answer\n",
        "    expected_answer = a*x**2 + b*x + c\n",
        "\n",
        "    # Get player input for the answer\n",
        "    player_answer = int(input(f\"Solve the expression {expression} for x={x}: \"))\n",
        "\n",
        "    # Check the answer\n",
        "    if player_answer == expected_answer:\n",
        "        print(\"Correct!\")\n",
        "    else:\n",
        "        print(f\"Incorrect. The correct answer was {expected_answer}.\")\n",
        "\n",
        "algebra_practice_game()\n"
      ],
      "metadata": {
        "colab": {
          "base_uri": "https://localhost:8080/"
        },
        "id": "WCHXAt0rJ1xW",
        "outputId": "c20c9bec-3b1a-4166-cba8-a792242f6f65"
      },
      "execution_count": 4,
      "outputs": [
        {
          "output_type": "stream",
          "name": "stdout",
          "text": [
            "Solve the expression -11x^2 + 6x + -20 for x=2: 22\n",
            "Incorrect. The correct answer was -52.\n"
          ]
        }
      ]
    },
    {
      "cell_type": "markdown",
      "source": [
        "Projectile game\n",
        "Display a \"wall\" with random height and location. Player has to move sliders to adjust a parabolic path to clear the wall\n",
        "For added difficulty, make a second level where players enter a, b, and c without sliders"
      ],
      "metadata": {
        "id": "1pSFOI8VKFkX"
      }
    },
    {
      "cell_type": "code",
      "source": [
        "import matplotlib.pyplot as plt\n",
        "import random\n",
        "\n",
        "def projectile_game():\n",
        "    # Generate random height and location for the wall\n",
        "    wall_height = random.randint(5, 15)\n",
        "    wall_location = random.randint(5, 15)\n",
        "\n",
        "    # Plot the wall\n",
        "    plt.plot([wall_location, wall_location], [0, wall_height], color='red', linewidth=5)\n",
        "    plt.xlabel('Distance')\n",
        "    plt.ylabel('Height')\n",
        "    plt.title('Projectile Game')\n",
        "    plt.grid(True)\n",
        "    plt.show()\n",
        "\n",
        "    # Get player input for adjusting the parabolic path\n",
        "    a = float(input(\"Enter the coefficient 'a': \"))\n",
        "    b = float(input(\"Enter the coefficient 'b': \"))\n",
        "    c = float(input(\"Enter the coefficient 'c': \"))\n",
        "\n",
        "    # Check if the parabolic path clears the wall\n",
        "    clearance = a * wall_location**2 + b * wall_location + c\n",
        "    if clearance >= wall_height:\n",
        "        print(\"Congratulations! The projectile cleared the wall.\")\n",
        "    else:\n",
        "        print(f\"Unfortunately, the projectile hit the wall at a height of {clearance} units.\")\n",
        "\n",
        "projectile_game()\n"
      ],
      "metadata": {
        "colab": {
          "base_uri": "https://localhost:8080/",
          "height": 545
        },
        "id": "ZL3i6pwxJ2JJ",
        "outputId": "cee6a5ac-63bc-4869-d830-a1251a4aefa5"
      },
      "execution_count": 3,
      "outputs": [
        {
          "output_type": "display_data",
          "data": {
            "text/plain": [
              "<Figure size 640x480 with 1 Axes>"
            ],
            "image/png": "[encoded data removed]"
          },
          "metadata": {}
        },
        {
          "output_type": "stream",
          "name": "stdout",
          "text": [
            "Enter the coefficient 'a': 322\n",
            "Enter the coefficient 'b': 11\n",
            "Enter the coefficient 'c': 22\n",
            "Congratulations! The projectile cleared the wall.\n"
          ]
        }
      ]
    }
  ]
}